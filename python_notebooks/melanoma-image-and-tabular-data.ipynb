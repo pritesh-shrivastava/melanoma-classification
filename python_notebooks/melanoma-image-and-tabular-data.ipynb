{
 "cells": [
  {
   "cell_type": "code",
   "execution_count": 1,
   "metadata": {
    "_cell_guid": "79c7e3d0-c299-4dcb-8224-4455121ee9b0",
    "_uuid": "d629ff2d2480ee46fbb7e2d37f6b5fab8052498a",
    "execution": {
     "iopub.execute_input": "2020-08-15T18:51:56.401526Z",
     "iopub.status.busy": "2020-08-15T18:51:56.400759Z",
     "iopub.status.idle": "2020-08-15T18:51:56.404297Z",
     "shell.execute_reply": "2020-08-15T18:51:56.403518Z"
    },
    "papermill": {
     "duration": 0.018795,
     "end_time": "2020-08-15T18:51:56.404427",
     "exception": false,
     "start_time": "2020-08-15T18:51:56.385632",
     "status": "completed"
    },
    "tags": []
   },
   "outputs": [],
   "source": [
    "import numpy as np\n",
    "import pandas as pd\n",
    "import matplotlib.pyplot as plt"
   ]
  },
  {
   "cell_type": "code",
   "execution_count": 2,
   "metadata": {
    "execution": {
     "iopub.execute_input": "2020-08-15T18:51:56.430439Z",
     "iopub.status.busy": "2020-08-15T18:51:56.429575Z",
     "iopub.status.idle": "2020-08-15T18:51:56.542679Z",
     "shell.execute_reply": "2020-08-15T18:51:56.543252Z"
    },
    "papermill": {
     "duration": 0.130269,
     "end_time": "2020-08-15T18:51:56.543421",
     "exception": false,
     "start_time": "2020-08-15T18:51:56.413152",
     "status": "completed"
    },
    "tags": []
   },
   "outputs": [
    {
     "data": {
      "text/html": [
       "<div>\n",
       "<style scoped>\n",
       "    .dataframe tbody tr th:only-of-type {\n",
       "        vertical-align: middle;\n",
       "    }\n",
       "\n",
       "    .dataframe tbody tr th {\n",
       "        vertical-align: top;\n",
       "    }\n",
       "\n",
       "    .dataframe thead th {\n",
       "        text-align: right;\n",
       "    }\n",
       "</style>\n",
       "<table border=\"1\" class=\"dataframe\">\n",
       "  <thead>\n",
       "    <tr style=\"text-align: right;\">\n",
       "      <th></th>\n",
       "      <th>image_name</th>\n",
       "      <th>target</th>\n",
       "    </tr>\n",
       "  </thead>\n",
       "  <tbody>\n",
       "    <tr>\n",
       "      <th>0</th>\n",
       "      <td>ISIC_0052060</td>\n",
       "      <td>0.127400</td>\n",
       "    </tr>\n",
       "    <tr>\n",
       "      <th>1</th>\n",
       "      <td>ISIC_0052349</td>\n",
       "      <td>0.126597</td>\n",
       "    </tr>\n",
       "    <tr>\n",
       "      <th>2</th>\n",
       "      <td>ISIC_0058510</td>\n",
       "      <td>0.126603</td>\n",
       "    </tr>\n",
       "    <tr>\n",
       "      <th>3</th>\n",
       "      <td>ISIC_0073313</td>\n",
       "      <td>0.126603</td>\n",
       "    </tr>\n",
       "    <tr>\n",
       "      <th>4</th>\n",
       "      <td>ISIC_0073502</td>\n",
       "      <td>0.137188</td>\n",
       "    </tr>\n",
       "  </tbody>\n",
       "</table>\n",
       "</div>"
      ],
      "text/plain": [
       "     image_name    target\n",
       "0  ISIC_0052060  0.127400\n",
       "1  ISIC_0052349  0.126597\n",
       "2  ISIC_0058510  0.126603\n",
       "3  ISIC_0073313  0.126603\n",
       "4  ISIC_0073502  0.137188"
      ]
     },
     "execution_count": 2,
     "metadata": {},
     "output_type": "execute_result"
    }
   ],
   "source": [
    "image_sub_vgg = pd.read_csv('../input/melanoma-keras-vgg/submission.csv')  ## 81%\n",
    "image_sub_eff = pd.read_csv('../input/efficientnet-b5-b6-b7-tf-keras/submission_EfficientNet_B7_Blend.csv')  ## 93.9%\n",
    "image_sub_eff2 = pd.read_csv('../input/melanoma-efficient-net-stratified-k-fold/submission.csv')  ## 94.5%\n",
    "tabular_sub = pd.read_csv('../input/melanoma-tabular-data-xgboost/submission.csv') ## Old tabular sub -> 72.88 AUC with XGBoost\n",
    "#tabular_sub = pd.read_csv('../input/tabular-data-model/submissions_tabular.csv')  ## New tabular sub -> 79%, worsens performance\n",
    "image_preds = pd.read_csv('../input/melanomapreds/submissionImage.csv')\n",
    "tabular_sub.head()"
   ]
  },
  {
   "cell_type": "code",
   "execution_count": 3,
   "metadata": {
    "execution": {
     "iopub.execute_input": "2020-08-15T18:51:56.570687Z",
     "iopub.status.busy": "2020-08-15T18:51:56.569830Z",
     "iopub.status.idle": "2020-08-15T18:51:56.975443Z",
     "shell.execute_reply": "2020-08-15T18:51:56.974823Z"
    },
    "papermill": {
     "duration": 0.423189,
     "end_time": "2020-08-15T18:51:56.975605",
     "exception": false,
     "start_time": "2020-08-15T18:51:56.552416",
     "status": "completed"
    },
    "tags": []
   },
   "outputs": [
    {
     "data": {
      "image/png": "[encoded data removed]",
      "text/plain": [
       "<Figure size 432x288 with 1 Axes>"
      ]
     },
     "metadata": {
      "needs_background": "light"
     },
     "output_type": "display_data"
    }
   ],
   "source": [
    "plt.hist(tabular_sub.target,bins=100)\n",
    "plt.ylim((0,100))\n",
    "plt.show()"
   ]
  },
  {
   "cell_type": "code",
   "execution_count": 4,
   "metadata": {
    "execution": {
     "iopub.execute_input": "2020-08-15T18:51:57.009022Z",
     "iopub.status.busy": "2020-08-15T18:51:57.007809Z",
     "iopub.status.idle": "2020-08-15T18:51:57.426718Z",
     "shell.execute_reply": "2020-08-15T18:51:57.425999Z"
    },
    "papermill": {
     "duration": 0.441393,
     "end_time": "2020-08-15T18:51:57.426849",
     "exception": false,
     "start_time": "2020-08-15T18:51:56.985456",
     "status": "completed"
    },
    "tags": []
   },
   "outputs": [
    {
     "data": {
      "image/png": "[encoded data removed]",
      "text/plain": [
       "<Figure size 432x288 with 1 Axes>"
      ]
     },
     "metadata": {
      "needs_background": "light"
     },
     "output_type": "display_data"
    }
   ],
   "source": [
    "plt.hist(image_sub_vgg.target,bins=100)\n",
    "plt.ylim((0,100))\n",
    "plt.show()"
   ]
  },
  {
   "cell_type": "code",
   "execution_count": 5,
   "metadata": {
    "execution": {
     "iopub.execute_input": "2020-08-15T18:51:57.459265Z",
     "iopub.status.busy": "2020-08-15T18:51:57.454956Z",
     "iopub.status.idle": "2020-08-15T18:51:57.804666Z",
     "shell.execute_reply": "2020-08-15T18:51:57.803874Z"
    },
    "papermill": {
     "duration": 0.367361,
     "end_time": "2020-08-15T18:51:57.804810",
     "exception": false,
     "start_time": "2020-08-15T18:51:57.437449",
     "status": "completed"
    },
    "tags": []
   },
   "outputs": [
    {
     "data": {
      "image/png": "[encoded data removed]",
      "text/plain": [
       "<Figure size 432x288 with 1 Axes>"
      ]
     },
     "metadata": {
      "needs_background": "light"
     },
     "output_type": "display_data"
    }
   ],
   "source": [
    "plt.hist(image_sub_eff.target,bins=100)\n",
    "plt.ylim((0,100))\n",
    "plt.show()"
   ]
  },
  {
   "cell_type": "code",
   "execution_count": 6,
   "metadata": {
    "execution": {
     "iopub.execute_input": "2020-08-15T18:51:57.837014Z",
     "iopub.status.busy": "2020-08-15T18:51:57.836053Z",
     "iopub.status.idle": "2020-08-15T18:51:57.999262Z",
     "shell.execute_reply": "2020-08-15T18:51:57.998627Z"
    },
    "papermill": {
     "duration": 0.182662,
     "end_time": "2020-08-15T18:51:57.999405",
     "exception": false,
     "start_time": "2020-08-15T18:51:57.816743",
     "status": "completed"
    },
    "tags": []
   },
   "outputs": [],
   "source": [
    "'''\n",
    "eff-net single model - 93.90\n",
    "0.5 eff : 0.5 old tabular - 93.54\n",
    "0.7 eff : 0.3 old tabular - 93.95\n",
    "0.7 eff : 0.3 new tabular - 93.00 \n",
    "0.5 eff : 0.5 new tabular - 91.60\n",
    "0.9 eff : 0.1 new tabualr - 93.86\n",
    "'''\n",
    "\n",
    "sub = tabular_sub.copy()\n",
    "sub.target = 0.9 * image_sub_eff2.target.values + 0.1 * tabular_sub.target.values\n",
    "sub.to_csv('submission.csv',index=False)"
   ]
  },
  {
   "cell_type": "markdown",
   "execution_count": null,
   "metadata": {
    "papermill": {
     "duration": 0.011465,
     "end_time": "2020-08-15T18:51:58.022933",
     "exception": false,
     "start_time": "2020-08-15T18:51:58.011468",
     "status": "completed"
    },
    "tags": []
   },
   "source": [
    "### Use power averaging for AUC\n",
    "https://www.kaggle.com/c/siim-isic-melanoma-classification/discussion/165653"
   ]
  },
  {
   "cell_type": "code",
   "execution_count": 7,
   "metadata": {
    "execution": {
     "iopub.execute_input": "2020-08-15T18:51:58.054938Z",
     "iopub.status.busy": "2020-08-15T18:51:58.053869Z",
     "iopub.status.idle": "2020-08-15T18:51:58.119448Z",
     "shell.execute_reply": "2020-08-15T18:51:58.118653Z"
    },
    "papermill": {
     "duration": 0.084983,
     "end_time": "2020-08-15T18:51:58.119615",
     "exception": false,
     "start_time": "2020-08-15T18:51:58.034632",
     "status": "completed"
    },
    "tags": []
   },
   "outputs": [],
   "source": [
    "sub = tabular_sub.copy()\n",
    "sub.target = (np.power(image_sub_eff2.target.values, 4) + np.power(image_sub_eff.target.values, 4) + \n",
    "              np.power(image_preds.target.values, 4)) /3\n",
    "sub.to_csv('power_avg_submission.csv',index=False)"
   ]
  },
  {
   "cell_type": "code",
   "execution_count": 8,
   "metadata": {
    "execution": {
     "iopub.execute_input": "2020-08-15T18:51:58.155844Z",
     "iopub.status.busy": "2020-08-15T18:51:58.149233Z",
     "iopub.status.idle": "2020-08-15T18:51:58.507062Z",
     "shell.execute_reply": "2020-08-15T18:51:58.506401Z"
    },
    "papermill": {
     "duration": 0.375762,
     "end_time": "2020-08-15T18:51:58.507194",
     "exception": false,
     "start_time": "2020-08-15T18:51:58.131432",
     "status": "completed"
    },
    "tags": []
   },
   "outputs": [
    {
     "data": {
      "image/png": "[encoded data removed]",
      "text/plain": [
       "<Figure size 432x288 with 1 Axes>"
      ]
     },
     "metadata": {
      "needs_background": "light"
     },
     "output_type": "display_data"
    }
   ],
   "source": [
    "plt.hist(sub.target,bins=100)\n",
    "plt.ylim((0,100))\n",
    "plt.show()"
   ]
  }
 ],
 "metadata": {
  "kernelspec": {
   "display_name": "Python 3",
   "language": "python",
   "name": "python3"
  },
  "language_info": {
   "codemirror_mode": {
    "name": "ipython",
    "version": 3
   },
   "file_extension": ".py",
   "mimetype": "text/x-python",
   "name": "python",
   "nbconvert_exporter": "python",
   "pygments_lexer": "ipython3",
   "version": "3.7.6"
  },
  "papermill": {
   "duration": 7.251321,
   "end_time": "2020-08-15T18:51:58.628756",
   "environment_variables": {},
   "exception": null,
   "input_path": "__notebook__.ipynb",
   "output_path": "__notebook__.ipynb",
   "parameters": {},
   "start_time": "2020-08-15T18:51:51.377435",
   "version": "2.1.0"
  }
 },
 "nbformat": 4,
 "nbformat_minor": 4
}
